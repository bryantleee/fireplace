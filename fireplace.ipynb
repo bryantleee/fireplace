{
 "cells": [
  {
   "cell_type": "code",
   "execution_count": 24,
   "metadata": {},
   "outputs": [],
   "source": [
    "import random"
   ]
  },
  {
   "cell_type": "code",
   "execution_count": 2,
   "metadata": {},
   "outputs": [],
   "source": [
    "fireplace_matrix = [[0 for i in range(25)] for i in range(18)]"
   ]
  },
  {
   "cell_type": "code",
   "execution_count": 3,
   "metadata": {},
   "outputs": [
    {
     "data": {
      "text/plain": [
       "[[0, 0, 0, 0, 0, 0, 0, 0, 0, 0, 0, 0, 0, 0, 0, 0, 0, 0, 0, 0, 0, 0, 0, 0, 0],\n",
       " [0, 0, 0, 0, 0, 0, 0, 0, 0, 0, 0, 0, 0, 0, 0, 0, 0, 0, 0, 0, 0, 0, 0, 0, 0],\n",
       " [0, 0, 0, 0, 0, 0, 0, 0, 0, 0, 0, 0, 0, 0, 0, 0, 0, 0, 0, 0, 0, 0, 0, 0, 0],\n",
       " [0, 0, 0, 0, 0, 0, 0, 0, 0, 0, 0, 0, 0, 0, 0, 0, 0, 0, 0, 0, 0, 0, 0, 0, 0],\n",
       " [0, 0, 0, 0, 0, 0, 0, 0, 0, 0, 0, 0, 0, 0, 0, 0, 0, 0, 0, 0, 0, 0, 0, 0, 0],\n",
       " [0, 0, 0, 0, 0, 0, 0, 0, 0, 0, 0, 0, 0, 0, 0, 0, 0, 0, 0, 0, 0, 0, 0, 0, 0],\n",
       " [0, 0, 0, 0, 0, 0, 0, 0, 0, 0, 0, 0, 0, 0, 0, 0, 0, 0, 0, 0, 0, 0, 0, 0, 0],\n",
       " [0, 0, 0, 0, 0, 0, 0, 0, 0, 0, 0, 0, 0, 0, 0, 0, 0, 0, 0, 0, 0, 0, 0, 0, 0],\n",
       " [0, 0, 0, 0, 0, 0, 0, 0, 0, 0, 0, 0, 0, 0, 0, 0, 0, 0, 0, 0, 0, 0, 0, 0, 0],\n",
       " [0, 0, 0, 0, 0, 0, 0, 0, 0, 0, 0, 0, 0, 0, 0, 0, 0, 0, 0, 0, 0, 0, 0, 0, 0],\n",
       " [0, 0, 0, 0, 0, 0, 0, 0, 0, 0, 0, 0, 0, 0, 0, 0, 0, 0, 0, 0, 0, 0, 0, 0, 0],\n",
       " [0, 0, 0, 0, 0, 0, 0, 0, 0, 0, 0, 0, 0, 0, 0, 0, 0, 0, 0, 0, 0, 0, 0, 0, 0],\n",
       " [0, 0, 0, 0, 0, 0, 0, 0, 0, 0, 0, 0, 0, 0, 0, 0, 0, 0, 0, 0, 0, 0, 0, 0, 0],\n",
       " [0, 0, 0, 0, 0, 0, 0, 0, 0, 0, 0, 0, 0, 0, 0, 0, 0, 0, 0, 0, 0, 0, 0, 0, 0],\n",
       " [0, 0, 0, 0, 0, 0, 0, 0, 0, 0, 0, 0, 0, 0, 0, 0, 0, 0, 0, 0, 0, 0, 0, 0, 0],\n",
       " [0, 0, 0, 0, 0, 0, 0, 0, 0, 0, 0, 0, 0, 0, 0, 0, 0, 0, 0, 0, 0, 0, 0, 0, 0],\n",
       " [0, 0, 0, 0, 0, 0, 0, 0, 0, 0, 0, 0, 0, 0, 0, 0, 0, 0, 0, 0, 0, 0, 0, 0, 0],\n",
       " [0, 0, 0, 0, 0, 0, 0, 0, 0, 0, 0, 0, 0, 0, 0, 0, 0, 0, 0, 0, 0, 0, 0, 0, 0]]"
      ]
     },
     "execution_count": 3,
     "metadata": {},
     "output_type": "execute_result"
    }
   ],
   "source": [
    "fireplace_matrix"
   ]
  },
  {
   "cell_type": "code",
   "execution_count": 4,
   "metadata": {},
   "outputs": [],
   "source": [
    "def generate_fire_frame(fireplace_matrix):\n",
    "    fireplace_matrix = [[0 for i in range(25)] for i in range(18)]\n",
    "    y = lambda x : -(1/15)*((x - 12)**2) + 12\n",
    "    for i, row in enumerate(fireplace_matrix):\n",
    "        for j, pixel in enumerate(row):\n",
    "            bound = y(j)\n",
    "            if i <= bound:\n",
    "                fireplace_matrix[i][j] = 1"
   ]
  },
  {
   "cell_type": "code",
   "execution_count": 5,
   "metadata": {},
   "outputs": [
    {
     "ename": "NameError",
     "evalue": "name 'inverse_print' is not defined",
     "output_type": "error",
     "traceback": [
      "\u001b[0;31m---------------------------------------------------------------------------\u001b[0m",
      "\u001b[0;31mNameError\u001b[0m                                 Traceback (most recent call last)",
      "\u001b[0;32m<ipython-input-5-7215121889cd>\u001b[0m in \u001b[0;36m<module>\u001b[0;34m\u001b[0m\n\u001b[1;32m     46\u001b[0m \u001b[0;34m\u001b[0m\u001b[0m\n\u001b[1;32m     47\u001b[0m \u001b[0;34m\u001b[0m\u001b[0m\n\u001b[0;32m---> 48\u001b[0;31m \u001b[0minverse_print\u001b[0m\u001b[0;34m(\u001b[0m\u001b[0mfireplace_matrix\u001b[0m\u001b[0;34m)\u001b[0m\u001b[0;34m\u001b[0m\u001b[0;34m\u001b[0m\u001b[0m\n\u001b[0m",
      "\u001b[0;31mNameError\u001b[0m: name 'inverse_print' is not defined"
     ]
    }
   ],
   "source": [
    "fireplace_matrix = [[0 for i in range(25)] for i in range(18)]\n",
    "\n",
    "pixel_states = {}\n",
    "\n",
    "# formula to determine fire max height\n",
    "y = lambda x : -(1/15)*((x - 12)**2) + 12\n",
    "\n",
    "# there is a chance to the kill the fire column at each row, increases as you get closer to bound\n",
    "death_chance = {\n",
    "    12 : 0,\n",
    "    11 : 0,\n",
    "    10 : 0,\n",
    "    9 : 0,\n",
    "    8 : 0,\n",
    "    7 : 0,\n",
    "    6 : 0,\n",
    "    5 : .20,\n",
    "    4 : .30,\n",
    "    3 : .35,\n",
    "    2 : .40,\n",
    "    1 : .40,\n",
    "    0 : .45\n",
    "}\n",
    "\n",
    "for i, row in enumerate(fireplace_matrix):\n",
    "    for j, pixel in enumerate(row):\n",
    "        \n",
    "        # max pixel height\n",
    "        bound = y(j)\n",
    "        \n",
    "        if bound - i > 0:\n",
    "            # Determine whether to kill using death chances\n",
    "            to_kill = random.random() < death_chance[int(bound - i)]\n",
    "            \n",
    "            # Pixel is valid under certain conditions\n",
    "            if i <= bound and not to_kill and pixel_states.get(j) != 2:\n",
    "                fireplace_matrix[i][j] = 1\n",
    "            \n",
    "            # only allow for one-pixel wide fire gaps\n",
    "            if pixel_states.get(j) == 1:\n",
    "                pixel_states[j] = 2\n",
    "            \n",
    "            # randomly determine if we allow for a pixel gap\n",
    "            if to_kill and pixel_states.get(j) != 2:\n",
    "                pixel_states[j] = 1 if random.random() < 0.3 else 2\n",
    "            \n",
    "\n",
    "inverse_print(fireplace_matrix)"
   ]
  },
  {
   "cell_type": "code",
   "execution_count": null,
   "metadata": {},
   "outputs": [],
   "source": [
    "def inverse_print(fireplace_matrix):\n",
    "    for row in reversed(fireplace_matrix):\n",
    "        print(row)"
   ]
  },
  {
   "cell_type": "markdown",
   "metadata": {},
   "source": [
    "---"
   ]
  },
  {
   "cell_type": "code",
   "execution_count": null,
   "metadata": {},
   "outputs": [],
   "source": [
    "# generate image"
   ]
  },
  {
   "cell_type": "code",
   "execution_count": 1,
   "metadata": {},
   "outputs": [],
   "source": [
    "import fireplace"
   ]
  },
  {
   "cell_type": "code",
   "execution_count": 2,
   "metadata": {},
   "outputs": [],
   "source": [
    "from PIL import Image\n",
    "import numpy as np"
   ]
  },
  {
   "cell_type": "code",
   "execution_count": 3,
   "metadata": {},
   "outputs": [],
   "source": [
    "for i in range(10):\n",
    "    fireplace_frame = fireplace.generate_fireplace_frame([[(0,0,0) for i in range(25)] for i in range(18)])\n",
    "\n",
    "    # Convert the pixels into an array using numpy\n",
    "    array = np.array(fireplace_frame[::-1], dtype=np.uint8)\n",
    "\n",
    "    # Use PIL to create an image from the new array of pixels\n",
    "    new_image = Image.fromarray(array)\n",
    "    new_image.save('image_samples/{}.png'.format(i))"
   ]
  },
  {
   "cell_type": "code",
   "execution_count": 21,
   "metadata": {},
   "outputs": [
    {
     "data": {
      "text/plain": [
       "100"
      ]
     },
     "execution_count": 21,
     "metadata": {},
     "output_type": "execute_result"
    }
   ],
   "source": [
    "sum([30, 25, 15, 15, 10, 5])"
   ]
  },
  {
   "cell_type": "code",
   "execution_count": 22,
   "metadata": {},
   "outputs": [],
   "source": [
    "colors = [(255, 252, 224), (251, 237, 83),(248, 221, 78), (246, 201, 73), (244, 183, 68), (241, 160, 63)]"
   ]
  },
  {
   "cell_type": "code",
   "execution_count": 23,
   "metadata": {},
   "outputs": [
    {
     "data": {
      "text/plain": [
       "2.4"
      ]
     },
     "execution_count": 23,
     "metadata": {},
     "output_type": "execute_result"
    }
   ],
   "source": [
    "12/5"
   ]
  },
  {
   "cell_type": "code",
   "execution_count": null,
   "metadata": {},
   "outputs": [],
   "source": [
    "def generate_pixel_color(bound_delta):\n",
    "    # possible pixel colors\n",
    "    colors = [(255, 252, 224), (251, 237, 83),(248, 221, 78), (246, 201, 73), (244, 183, 68), (241, 160, 63)]\n",
    "            # [30, 25, 15, 15, 10, 5]\n",
    "    i = int(bound_delta) \n",
    "    "
   ]
  }
 ],
 "metadata": {
  "kernelspec": {
   "display_name": "Python 3",
   "language": "python",
   "name": "python3"
  },
  "language_info": {
   "codemirror_mode": {
    "name": "ipython",
    "version": 3
   },
   "file_extension": ".py",
   "mimetype": "text/x-python",
   "name": "python",
   "nbconvert_exporter": "python",
   "pygments_lexer": "ipython3",
   "version": "3.7.4"
  }
 },
 "nbformat": 4,
 "nbformat_minor": 4
}
